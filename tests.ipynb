{
 "cells": [
  {
   "cell_type": "code",
   "execution_count": 8,
   "id": "5352b80c",
   "metadata": {},
   "outputs": [],
   "source": [
    "import random\n",
    "import base64\n",
    "import hashlib"
   ]
  },
  {
   "cell_type": "code",
   "execution_count": 2,
   "id": "88cf49c5",
   "metadata": {},
   "outputs": [
    {
     "data": {
      "text/plain": [
       "b'@\\xd8\\x10\\xe2\\x01A?\\xe3c\\xb9\\x02\\xd6/H\\xeb\\xce'"
      ]
     },
     "execution_count": 2,
     "metadata": {},
     "output_type": "execute_result"
    }
   ],
   "source": [
    "a = random.randbytes(16)\n",
    "a"
   ]
  },
  {
   "cell_type": "code",
   "execution_count": 4,
   "id": "0e48df50",
   "metadata": {},
   "outputs": [
    {
     "data": {
      "text/plain": [
       "'40d810e201413fe363b902d62f48ebce'"
      ]
     },
     "execution_count": 4,
     "metadata": {},
     "output_type": "execute_result"
    }
   ],
   "source": [
    "a.hex()"
   ]
  },
  {
   "cell_type": "code",
   "execution_count": 7,
   "id": "dfbc7770",
   "metadata": {},
   "outputs": [
    {
     "data": {
      "text/plain": [
       "b'QNgQ4gFBP+NjuQLWL0jrzg=='"
      ]
     },
     "execution_count": 7,
     "metadata": {},
     "output_type": "execute_result"
    }
   ],
   "source": [
    "base64.b64encode(a)"
   ]
  },
  {
   "cell_type": "code",
   "execution_count": 9,
   "id": "f646887d",
   "metadata": {},
   "outputs": [
    {
     "data": {
      "text/plain": [
       "'dd79914f5334b9ffb84da4f36ffda302fc456dc5'"
      ]
     },
     "execution_count": 9,
     "metadata": {},
     "output_type": "execute_result"
    }
   ],
   "source": [
    "hashlib.sha1(a).hexdigest()"
   ]
  },
  {
   "cell_type": "code",
   "execution_count": 11,
   "id": "0ba5a60e",
   "metadata": {},
   "outputs": [
    {
     "ename": "UnicodeDecodeError",
     "evalue": "'utf-8' codec can't decode byte 0xd8 in position 1: invalid continuation byte",
     "output_type": "error",
     "traceback": [
      "\u001b[31m---------------------------------------------------------------------------\u001b[39m",
      "\u001b[31mUnicodeDecodeError\u001b[39m                        Traceback (most recent call last)",
      "\u001b[36mCell\u001b[39m\u001b[36m \u001b[39m\u001b[32mIn[11]\u001b[39m\u001b[32m, line 1\u001b[39m\n\u001b[32m----> \u001b[39m\u001b[32m1\u001b[39m \u001b[43ma\u001b[49m\u001b[43m.\u001b[49m\u001b[43mdecode\u001b[49m\u001b[43m(\u001b[49m\u001b[33;43m'\u001b[39;49m\u001b[33;43mutf-8\u001b[39;49m\u001b[33;43m'\u001b[39;49m\u001b[43m)\u001b[49m\n",
      "\u001b[31mUnicodeDecodeError\u001b[39m: 'utf-8' codec can't decode byte 0xd8 in position 1: invalid continuation byte"
     ]
    }
   ],
   "source": [
    "a.decode('utf-8')"
   ]
  },
  {
   "cell_type": "code",
   "execution_count": 13,
   "id": "b8bf8398",
   "metadata": {},
   "outputs": [
    {
     "data": {
      "text/plain": [
       "b'dGhlIGxpdHRsZSBmb3ggSlVNUFMhIQ=='"
      ]
     },
     "execution_count": 13,
     "metadata": {},
     "output_type": "execute_result"
    }
   ],
   "source": [
    "msg = b'the little fox JUMPS!!'\n",
    "msg.hex()\n",
    "base64.b64encode(msg)"
   ]
  },
  {
   "cell_type": "code",
   "execution_count": 15,
   "id": "ffd1192f",
   "metadata": {},
   "outputs": [
    {
     "name": "stdout",
     "output_type": "stream",
     "text": [
      "116 104 101 32 108 105 116 116 108 101 32 102 111 120 32 74 85 77 80 83 33 33 "
     ]
    }
   ],
   "source": [
    "for i in msg:\n",
    "    print(i, end=' ')"
   ]
  },
  {
   "cell_type": "code",
   "execution_count": null,
   "id": "8cc95a92",
   "metadata": {},
   "outputs": [
    {
     "data": {
      "text/plain": [
       "('d7db4f7dc228ea69e21188133d68972079681749',\n",
       " 'e5812f707cdbf9c840a316996c77af90ed046304cda0b44619ba98a3ffc0da73',\n",
       " 'bf0dda7b4b27864ec0ed536c932d92bc4eb21480d576c2cc81d85423fe495650180d45a9e37e366fe6eb1d9d12787a44da531457efb2c5a1ccf20ee50afdc1d1',\n",
       " '05095ee87414b4fef7ce0081d0bd486e',\n",
       " 'fd293d9ab1af8ef1e050d26489ee76e0fb3e421c8e9f991054679b295269cfcf',\n",
       " '62a6968809144ea49292d64c91719090ac33f0959f1e04113018565978fce15ae3e3d6fa52d6f7cbe2d6578bf7714fb444f5e82f69cd5bb82d9657cedd47c482')"
      ]
     },
     "execution_count": 18,
     "metadata": {},
     "output_type": "execute_result"
    }
   ],
   "source": [
    "hashlib.sha1(msg).hexdigest(), hashlib.sha256(msg).hexdigest(), hashlib.sha512(msg).hexdigest(), hashlib.md5(msg).hexdigest(), hashlib.sha3_256(msg).hexdigest(), hashlib.sha3_512(msg).hexdigest()"
   ]
  }
 ],
 "metadata": {
  "kernelspec": {
   "display_name": ".venv",
   "language": "python",
   "name": "python3"
  },
  "language_info": {
   "codemirror_mode": {
    "name": "ipython",
    "version": 3
   },
   "file_extension": ".py",
   "mimetype": "text/x-python",
   "name": "python",
   "nbconvert_exporter": "python",
   "pygments_lexer": "ipython3",
   "version": "3.13.1"
  }
 },
 "nbformat": 4,
 "nbformat_minor": 5
}
